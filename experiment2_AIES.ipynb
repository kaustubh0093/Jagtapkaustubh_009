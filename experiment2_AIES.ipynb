{
  "nbformat": 4,
  "nbformat_minor": 0,
  "metadata": {
    "colab": {
      "provenance": []
    },
    "kernelspec": {
      "name": "python3",
      "display_name": "Python 3"
    },
    "language_info": {
      "name": "python"
    }
  },
  "cells": [
    {
      "cell_type": "markdown",
      "source": [
        "NAME-JAGTAP KAUSTUBH\n",
        "\n",
        "ROLL NO-09\n",
        "\n",
        "PRN-22SC114501064\n",
        "\n",
        "TITLE-Impact of Data Quality on AI Fairness\n",
        "\n",
        "Objective: To understand how imbalanced data affects the fairness and performance of AI models — and how data balancing techniques (like SMOTE) can improve fairness.\n"
      ],
      "metadata": {
        "id": "yn95UQx-31lu"
      }
    },
    {
      "cell_type": "code",
      "source": [
        "pip install fairlearn"
      ],
      "metadata": {
        "colab": {
          "base_uri": "https://localhost:8080/"
        },
        "id": "aEYbeu5Tpqdo",
        "outputId": "776c7010-6a75-4b36-abf8-7f4fb8b65b82"
      },
      "execution_count": 5,
      "outputs": [
        {
          "output_type": "stream",
          "name": "stdout",
          "text": [
            "Collecting fairlearn\n",
            "  Downloading fairlearn-0.12.0-py3-none-any.whl.metadata (7.0 kB)\n",
            "Requirement already satisfied: numpy>=1.24.4 in /usr/local/lib/python3.11/dist-packages (from fairlearn) (2.0.2)\n",
            "Requirement already satisfied: pandas>=2.0.3 in /usr/local/lib/python3.11/dist-packages (from fairlearn) (2.2.2)\n",
            "Requirement already satisfied: scikit-learn>=1.2.1 in /usr/local/lib/python3.11/dist-packages (from fairlearn) (1.6.1)\n",
            "Requirement already satisfied: scipy>=1.9.3 in /usr/local/lib/python3.11/dist-packages (from fairlearn) (1.16.1)\n",
            "Requirement already satisfied: python-dateutil>=2.8.2 in /usr/local/lib/python3.11/dist-packages (from pandas>=2.0.3->fairlearn) (2.9.0.post0)\n",
            "Requirement already satisfied: pytz>=2020.1 in /usr/local/lib/python3.11/dist-packages (from pandas>=2.0.3->fairlearn) (2025.2)\n",
            "Requirement already satisfied: tzdata>=2022.7 in /usr/local/lib/python3.11/dist-packages (from pandas>=2.0.3->fairlearn) (2025.2)\n",
            "Requirement already satisfied: joblib>=1.2.0 in /usr/local/lib/python3.11/dist-packages (from scikit-learn>=1.2.1->fairlearn) (1.5.1)\n",
            "Requirement already satisfied: threadpoolctl>=3.1.0 in /usr/local/lib/python3.11/dist-packages (from scikit-learn>=1.2.1->fairlearn) (3.6.0)\n",
            "Requirement already satisfied: six>=1.5 in /usr/local/lib/python3.11/dist-packages (from python-dateutil>=2.8.2->pandas>=2.0.3->fairlearn) (1.17.0)\n",
            "Downloading fairlearn-0.12.0-py3-none-any.whl (240 kB)\n",
            "\u001b[2K   \u001b[90m━━━━━━━━━━━━━━━━━━━━━━━━━━━━━━━━━━━━━━━━\u001b[0m \u001b[32m240.0/240.0 kB\u001b[0m \u001b[31m4.1 MB/s\u001b[0m eta \u001b[36m0:00:00\u001b[0m\n",
            "\u001b[?25hInstalling collected packages: fairlearn\n",
            "Successfully installed fairlearn-0.12.0\n"
          ]
        }
      ]
    },
    {
      "cell_type": "code",
      "source": [
        "import pandas as pd\n",
        "from sklearn.model_selection import train_test_split\n",
        "from sklearn.linear_model import LogisticRegression\n",
        "from fairlearn.metrics import MetricFrame, true_positive_rate, false_positive_rate"
      ],
      "metadata": {
        "id": "LARlBZRyra8p"
      },
      "execution_count": 6,
      "outputs": []
    },
    {
      "cell_type": "code",
      "source": [
        "df = pd.read_csv('/content/recidivism_full.csv')"
      ],
      "metadata": {
        "id": "EyQiFPylrbsj"
      },
      "execution_count": 8,
      "outputs": []
    },
    {
      "cell_type": "code",
      "source": [
        "df.columns"
      ],
      "metadata": {
        "colab": {
          "base_uri": "https://localhost:8080/"
        },
        "id": "8COwB7Bwrscz",
        "outputId": "a4622aef-3efe-4e2f-8d0c-2153ec027736"
      },
      "execution_count": 9,
      "outputs": [
        {
          "output_type": "execute_result",
          "data": {
            "text/plain": [
              "Index(['ID', 'Gender', 'Race', 'Age_at_Release', 'Residence_PUMA',\n",
              "       'Gang_Affiliated', 'Supervision_Risk_Score_First',\n",
              "       'Supervision_Level_First', 'Education_Level', 'Dependents',\n",
              "       'Prison_Offense', 'Prison_Years', 'Prior_Arrest_Episodes_Felony',\n",
              "       'Prior_Arrest_Episodes_Misd', 'Prior_Arrest_Episodes_Violent',\n",
              "       'Prior_Arrest_Episodes_Property', 'Prior_Arrest_Episodes_Drug',\n",
              "       'Prior_Arrest_Episodes_PPViolationCharges',\n",
              "       'Prior_Arrest_Episodes_DVCharges', 'Prior_Arrest_Episodes_GunCharges',\n",
              "       'Prior_Conviction_Episodes_Felony', 'Prior_Conviction_Episodes_Misd',\n",
              "       'Prior_Conviction_Episodes_Viol', 'Prior_Conviction_Episodes_Prop',\n",
              "       'Prior_Conviction_Episodes_Drug',\n",
              "       'Prior_Conviction_Episodes_PPViolationCharges',\n",
              "       'Prior_Conviction_Episodes_DomesticViolenceCharges',\n",
              "       'Prior_Conviction_Episodes_GunCharges', 'Prior_Revocations_Parole',\n",
              "       'Prior_Revocations_Probation', 'Condition_MH_SA', 'Condition_Cog_Ed',\n",
              "       'Condition_Other', 'Violations_ElectronicMonitoring',\n",
              "       'Violations_Instruction', 'Violations_FailToReport',\n",
              "       'Violations_MoveWithoutPermission', 'Delinquency_Reports',\n",
              "       'Program_Attendances', 'Program_UnexcusedAbsences', 'Residence_Changes',\n",
              "       'Avg_Days_per_DrugTest', 'DrugTests_THC_Positive',\n",
              "       'DrugTests_Cocaine_Positive', 'DrugTests_Meth_Positive',\n",
              "       'DrugTests_Other_Positive', 'Percent_Days_Employed', 'Jobs_Per_Year',\n",
              "       'Employment_Exempt', 'Recidivism_Within_3years',\n",
              "       'Recidivism_Arrest_Year1', 'Recidivism_Arrest_Year2',\n",
              "       'Recidivism_Arrest_Year3', 'Training_Sample'],\n",
              "      dtype='object')"
            ]
          },
          "metadata": {},
          "execution_count": 9
        }
      ]
    },
    {
      "cell_type": "code",
      "source": [
        "# Keep only the needed columns\n",
        "df = df[df['Race'].isin(['BLACK', 'WHITE'])]\n",
        "df = df.dropna(subset=['Age_at_Release', 'Prior_Arrest_Episodes_Felony', 'Prison_Offense', 'Recidivism_Within_3years'])"
      ],
      "metadata": {
        "id": "Xd1xq9fIru_S"
      },
      "execution_count": 10,
      "outputs": []
    },
    {
      "cell_type": "code",
      "source": [
        "# One-hot encode the categorical column\n",
        "df = pd.get_dummies(df, columns=['Prison_Offense'], drop_first=True)"
      ],
      "metadata": {
        "id": "nmMoD-aSsDNk"
      },
      "execution_count": 11,
      "outputs": []
    },
    {
      "cell_type": "code",
      "source": [
        "# Replace '10 or more' with 10 and convert to numeric\n",
        "df['Prior_Arrest_Episodes_Felony'] = df['Prior_Arrest_Episodes_Felony'].replace('10 or more', 10).astype(int)\n",
        "\n",
        "# One-hot encode 'Age_at_Release'\n",
        "df = pd.get_dummies(df, columns=['Age_at_Release'], drop_first=True)\n",
        "\n",
        "\n",
        "# Select all required columns\n",
        "features = ['Prior_Arrest_Episodes_Felony'] + [col for col in df.columns if 'Prison_Offense' in col or 'Age_at_Release' in col]\n",
        "X = df[features]\n",
        "y = df['Recidivism_Within_3years'].astype(int)\n",
        "race = df['Race']\n",
        "\n",
        "# Split the data after converting Age_at_Release to numeric\n",
        "X_train, X_test, y_train, y_test, race_train, race_test = \\\n",
        "    train_test_split(X, y, race, test_size=0.3, stratify=race)"
      ],
      "metadata": {
        "id": "OzQv1lebsd_g"
      },
      "execution_count": 12,
      "outputs": []
    },
    {
      "cell_type": "code",
      "source": [
        "# Replace '10 or more' with 10 and convert to numeric\n",
        "df['Prior_Arrest_Episodes_Felony'] = df['Prior_Arrest_Episodes_Felony'].replace('10 or more', 10).astype(int)\n",
        "\n",
        "X_train, X_test, y_train, y_test, race_train, race_test = \\\n",
        "    train_test_split(X, y, race, test_size=0.3, stratify=race)"
      ],
      "metadata": {
        "id": "-XFeVYMFsgD4"
      },
      "execution_count": 13,
      "outputs": []
    },
    {
      "cell_type": "code",
      "metadata": {
        "id": "0125726f"
      },
      "source": [
        "# One-hot encode the Gender column\n",
        "df = pd.get_dummies(df, columns=['Gender'], drop_first=True)"
      ],
      "execution_count": 14,
      "outputs": []
    },
    {
      "cell_type": "code",
      "metadata": {
        "colab": {
          "base_uri": "https://localhost:8080/",
          "height": 143
        },
        "id": "fa12e5dd",
        "outputId": "423ce265-1d86-417b-ef9d-e4b87fbe2b2a"
      },
      "source": [
        "# Train a Logistic Regression model\n",
        "model = LogisticRegression(solver='liblinear')\n",
        "model.fit(X_train, y_train)\n",
        "\n",
        "# Make predictions\n",
        "y_pred = model.predict(X_test)\n",
        "\n",
        "# Calculate fairness metrics\n",
        "metric_frame = MetricFrame(metrics={\"True positive rate\": true_positive_rate,\n",
        "                                    \"False positive rate\": false_positive_rate},\n",
        "                           y_true=y_test,\n",
        "                           y_pred=y_pred,\n",
        "                           sensitive_features=race_test)\n",
        "\n",
        "# Display the fairness metrics\n",
        "display(metric_frame.by_group)"
      ],
      "execution_count": 15,
      "outputs": [
        {
          "output_type": "display_data",
          "data": {
            "text/plain": [
              "       True positive rate  False positive rate\n",
              "Race                                          \n",
              "BLACK            0.850000             0.631157\n",
              "WHITE            0.806624             0.532374"
            ],
            "text/html": [
              "\n",
              "  <div id=\"df-fcdcd2de-d559-4c6e-80cf-7577beb5c9c4\" class=\"colab-df-container\">\n",
              "    <div>\n",
              "<style scoped>\n",
              "    .dataframe tbody tr th:only-of-type {\n",
              "        vertical-align: middle;\n",
              "    }\n",
              "\n",
              "    .dataframe tbody tr th {\n",
              "        vertical-align: top;\n",
              "    }\n",
              "\n",
              "    .dataframe thead th {\n",
              "        text-align: right;\n",
              "    }\n",
              "</style>\n",
              "<table border=\"1\" class=\"dataframe\">\n",
              "  <thead>\n",
              "    <tr style=\"text-align: right;\">\n",
              "      <th></th>\n",
              "      <th>True positive rate</th>\n",
              "      <th>False positive rate</th>\n",
              "    </tr>\n",
              "    <tr>\n",
              "      <th>Race</th>\n",
              "      <th></th>\n",
              "      <th></th>\n",
              "    </tr>\n",
              "  </thead>\n",
              "  <tbody>\n",
              "    <tr>\n",
              "      <th>BLACK</th>\n",
              "      <td>0.850000</td>\n",
              "      <td>0.631157</td>\n",
              "    </tr>\n",
              "    <tr>\n",
              "      <th>WHITE</th>\n",
              "      <td>0.806624</td>\n",
              "      <td>0.532374</td>\n",
              "    </tr>\n",
              "  </tbody>\n",
              "</table>\n",
              "</div>\n",
              "    <div class=\"colab-df-buttons\">\n",
              "\n",
              "  <div class=\"colab-df-container\">\n",
              "    <button class=\"colab-df-convert\" onclick=\"convertToInteractive('df-fcdcd2de-d559-4c6e-80cf-7577beb5c9c4')\"\n",
              "            title=\"Convert this dataframe to an interactive table.\"\n",
              "            style=\"display:none;\">\n",
              "\n",
              "  <svg xmlns=\"http://www.w3.org/2000/svg\" height=\"24px\" viewBox=\"0 -960 960 960\">\n",
              "    <path d=\"M120-120v-720h720v720H120Zm60-500h600v-160H180v160Zm220 220h160v-160H400v160Zm0 220h160v-160H400v160ZM180-400h160v-160H180v160Zm440 0h160v-160H620v160ZM180-180h160v-160H180v160Zm440 0h160v-160H620v160Z\"/>\n",
              "  </svg>\n",
              "    </button>\n",
              "\n",
              "  <style>\n",
              "    .colab-df-container {\n",
              "      display:flex;\n",
              "      gap: 12px;\n",
              "    }\n",
              "\n",
              "    .colab-df-convert {\n",
              "      background-color: #E8F0FE;\n",
              "      border: none;\n",
              "      border-radius: 50%;\n",
              "      cursor: pointer;\n",
              "      display: none;\n",
              "      fill: #1967D2;\n",
              "      height: 32px;\n",
              "      padding: 0 0 0 0;\n",
              "      width: 32px;\n",
              "    }\n",
              "\n",
              "    .colab-df-convert:hover {\n",
              "      background-color: #E2EBFA;\n",
              "      box-shadow: 0px 1px 2px rgba(60, 64, 67, 0.3), 0px 1px 3px 1px rgba(60, 64, 67, 0.15);\n",
              "      fill: #174EA6;\n",
              "    }\n",
              "\n",
              "    .colab-df-buttons div {\n",
              "      margin-bottom: 4px;\n",
              "    }\n",
              "\n",
              "    [theme=dark] .colab-df-convert {\n",
              "      background-color: #3B4455;\n",
              "      fill: #D2E3FC;\n",
              "    }\n",
              "\n",
              "    [theme=dark] .colab-df-convert:hover {\n",
              "      background-color: #434B5C;\n",
              "      box-shadow: 0px 1px 3px 1px rgba(0, 0, 0, 0.15);\n",
              "      filter: drop-shadow(0px 1px 2px rgba(0, 0, 0, 0.3));\n",
              "      fill: #FFFFFF;\n",
              "    }\n",
              "  </style>\n",
              "\n",
              "    <script>\n",
              "      const buttonEl =\n",
              "        document.querySelector('#df-fcdcd2de-d559-4c6e-80cf-7577beb5c9c4 button.colab-df-convert');\n",
              "      buttonEl.style.display =\n",
              "        google.colab.kernel.accessAllowed ? 'block' : 'none';\n",
              "\n",
              "      async function convertToInteractive(key) {\n",
              "        const element = document.querySelector('#df-fcdcd2de-d559-4c6e-80cf-7577beb5c9c4');\n",
              "        const dataTable =\n",
              "          await google.colab.kernel.invokeFunction('convertToInteractive',\n",
              "                                                    [key], {});\n",
              "        if (!dataTable) return;\n",
              "\n",
              "        const docLinkHtml = 'Like what you see? Visit the ' +\n",
              "          '<a target=\"_blank\" href=https://colab.research.google.com/notebooks/data_table.ipynb>data table notebook</a>'\n",
              "          + ' to learn more about interactive tables.';\n",
              "        element.innerHTML = '';\n",
              "        dataTable['output_type'] = 'display_data';\n",
              "        await google.colab.output.renderOutput(dataTable, element);\n",
              "        const docLink = document.createElement('div');\n",
              "        docLink.innerHTML = docLinkHtml;\n",
              "        element.appendChild(docLink);\n",
              "      }\n",
              "    </script>\n",
              "  </div>\n",
              "\n",
              "\n",
              "    <div id=\"df-e6b1f840-b480-452d-bed7-f93e2efbc4c3\">\n",
              "      <button class=\"colab-df-quickchart\" onclick=\"quickchart('df-e6b1f840-b480-452d-bed7-f93e2efbc4c3')\"\n",
              "                title=\"Suggest charts\"\n",
              "                style=\"display:none;\">\n",
              "\n",
              "<svg xmlns=\"http://www.w3.org/2000/svg\" height=\"24px\"viewBox=\"0 0 24 24\"\n",
              "     width=\"24px\">\n",
              "    <g>\n",
              "        <path d=\"M19 3H5c-1.1 0-2 .9-2 2v14c0 1.1.9 2 2 2h14c1.1 0 2-.9 2-2V5c0-1.1-.9-2-2-2zM9 17H7v-7h2v7zm4 0h-2V7h2v10zm4 0h-2v-4h2v4z\"/>\n",
              "    </g>\n",
              "</svg>\n",
              "      </button>\n",
              "\n",
              "<style>\n",
              "  .colab-df-quickchart {\n",
              "      --bg-color: #E8F0FE;\n",
              "      --fill-color: #1967D2;\n",
              "      --hover-bg-color: #E2EBFA;\n",
              "      --hover-fill-color: #174EA6;\n",
              "      --disabled-fill-color: #AAA;\n",
              "      --disabled-bg-color: #DDD;\n",
              "  }\n",
              "\n",
              "  [theme=dark] .colab-df-quickchart {\n",
              "      --bg-color: #3B4455;\n",
              "      --fill-color: #D2E3FC;\n",
              "      --hover-bg-color: #434B5C;\n",
              "      --hover-fill-color: #FFFFFF;\n",
              "      --disabled-bg-color: #3B4455;\n",
              "      --disabled-fill-color: #666;\n",
              "  }\n",
              "\n",
              "  .colab-df-quickchart {\n",
              "    background-color: var(--bg-color);\n",
              "    border: none;\n",
              "    border-radius: 50%;\n",
              "    cursor: pointer;\n",
              "    display: none;\n",
              "    fill: var(--fill-color);\n",
              "    height: 32px;\n",
              "    padding: 0;\n",
              "    width: 32px;\n",
              "  }\n",
              "\n",
              "  .colab-df-quickchart:hover {\n",
              "    background-color: var(--hover-bg-color);\n",
              "    box-shadow: 0 1px 2px rgba(60, 64, 67, 0.3), 0 1px 3px 1px rgba(60, 64, 67, 0.15);\n",
              "    fill: var(--button-hover-fill-color);\n",
              "  }\n",
              "\n",
              "  .colab-df-quickchart-complete:disabled,\n",
              "  .colab-df-quickchart-complete:disabled:hover {\n",
              "    background-color: var(--disabled-bg-color);\n",
              "    fill: var(--disabled-fill-color);\n",
              "    box-shadow: none;\n",
              "  }\n",
              "\n",
              "  .colab-df-spinner {\n",
              "    border: 2px solid var(--fill-color);\n",
              "    border-color: transparent;\n",
              "    border-bottom-color: var(--fill-color);\n",
              "    animation:\n",
              "      spin 1s steps(1) infinite;\n",
              "  }\n",
              "\n",
              "  @keyframes spin {\n",
              "    0% {\n",
              "      border-color: transparent;\n",
              "      border-bottom-color: var(--fill-color);\n",
              "      border-left-color: var(--fill-color);\n",
              "    }\n",
              "    20% {\n",
              "      border-color: transparent;\n",
              "      border-left-color: var(--fill-color);\n",
              "      border-top-color: var(--fill-color);\n",
              "    }\n",
              "    30% {\n",
              "      border-color: transparent;\n",
              "      border-left-color: var(--fill-color);\n",
              "      border-top-color: var(--fill-color);\n",
              "      border-right-color: var(--fill-color);\n",
              "    }\n",
              "    40% {\n",
              "      border-color: transparent;\n",
              "      border-right-color: var(--fill-color);\n",
              "      border-top-color: var(--fill-color);\n",
              "    }\n",
              "    60% {\n",
              "      border-color: transparent;\n",
              "      border-right-color: var(--fill-color);\n",
              "    }\n",
              "    80% {\n",
              "      border-color: transparent;\n",
              "      border-right-color: var(--fill-color);\n",
              "      border-bottom-color: var(--fill-color);\n",
              "    }\n",
              "    90% {\n",
              "      border-color: transparent;\n",
              "      border-bottom-color: var(--fill-color);\n",
              "    }\n",
              "  }\n",
              "</style>\n",
              "\n",
              "      <script>\n",
              "        async function quickchart(key) {\n",
              "          const quickchartButtonEl =\n",
              "            document.querySelector('#' + key + ' button');\n",
              "          quickchartButtonEl.disabled = true;  // To prevent multiple clicks.\n",
              "          quickchartButtonEl.classList.add('colab-df-spinner');\n",
              "          try {\n",
              "            const charts = await google.colab.kernel.invokeFunction(\n",
              "                'suggestCharts', [key], {});\n",
              "          } catch (error) {\n",
              "            console.error('Error during call to suggestCharts:', error);\n",
              "          }\n",
              "          quickchartButtonEl.classList.remove('colab-df-spinner');\n",
              "          quickchartButtonEl.classList.add('colab-df-quickchart-complete');\n",
              "        }\n",
              "        (() => {\n",
              "          let quickchartButtonEl =\n",
              "            document.querySelector('#df-e6b1f840-b480-452d-bed7-f93e2efbc4c3 button');\n",
              "          quickchartButtonEl.style.display =\n",
              "            google.colab.kernel.accessAllowed ? 'block' : 'none';\n",
              "        })();\n",
              "      </script>\n",
              "    </div>\n",
              "\n",
              "    </div>\n",
              "  </div>\n"
            ],
            "application/vnd.google.colaboratory.intrinsic+json": {
              "type": "dataframe",
              "summary": "{\n  \"name\": \"display(metric_frame\",\n  \"rows\": 2,\n  \"fields\": [\n    {\n      \"column\": \"Race\",\n      \"properties\": {\n        \"dtype\": \"string\",\n        \"num_unique_values\": 2,\n        \"samples\": [\n          \"WHITE\",\n          \"BLACK\"\n        ],\n        \"semantic_type\": \"\",\n        \"description\": \"\"\n      }\n    },\n    {\n      \"column\": \"True positive rate\",\n      \"properties\": {\n        \"dtype\": \"number\",\n        \"std\": 0.030671512089929277,\n        \"min\": 0.8066239316239316,\n        \"max\": 0.85,\n        \"num_unique_values\": 2,\n        \"samples\": [\n          0.8066239316239316,\n          0.85\n        ],\n        \"semantic_type\": \"\",\n        \"description\": \"\"\n      }\n    },\n    {\n      \"column\": \"False positive rate\",\n      \"properties\": {\n        \"dtype\": \"number\",\n        \"std\": 0.06985000853818506,\n        \"min\": 0.5323741007194245,\n        \"max\": 0.6311569301260023,\n        \"num_unique_values\": 2,\n        \"samples\": [\n          0.5323741007194245,\n          0.6311569301260023\n        ],\n        \"semantic_type\": \"\",\n        \"description\": \"\"\n      }\n    }\n  ]\n}"
            }
          },
          "metadata": {}
        }
      ]
    },
    {
      "cell_type": "markdown",
      "source": [
        "True Positives (TP): These are cases where the model correctly predicts a positive outcome. In the context of this dataset, a true positive would be when the model predicts that an individual will recidivate (positive outcome), and they actually do recidivate.\n",
        "\n",
        "False Positives (FP): These are cases where the model incorrectly predicts a positive outcome. In this dataset, a false positive would be when the model predicts that an individual will recidivate (positive outcome), but they do not actually recidivate. These are often referred to as Type I errors.\n"
      ],
      "metadata": {
        "id": "fDGyyEFId6G6"
      }
    },
    {
      "cell_type": "code",
      "source": [
        "from sklearn.metrics import accuracy_score\n",
        "\n",
        "# Calculate the accuracy score\n",
        "accuracy = accuracy_score(y_test, y_pred)\n",
        "\n",
        "# Display the accuracy score\n",
        "display(f\"Accuracy Score: {accuracy}\")"
      ],
      "metadata": {
        "colab": {
          "base_uri": "https://localhost:8080/",
          "height": 36
        },
        "id": "R5v30nhcthbt",
        "outputId": "c2d84fb4-86b6-4517-f578-0052410f15c5"
      },
      "execution_count": 16,
      "outputs": [
        {
          "output_type": "display_data",
          "data": {
            "text/plain": [
              "'Accuracy Score: 0.6570138150903294'"
            ],
            "application/vnd.google.colaboratory.intrinsic+json": {
              "type": "string"
            }
          },
          "metadata": {}
        }
      ]
    },
    {
      "cell_type": "code",
      "source": [
        "# View fairness metrics after mitigation\n",
        "print(\"Fairness Metrics by Race After Reweighing:\")\n",
        "# Please make sure to execute the previous cells, especially the one that calculates metric_frame\n",
        "print(metric_frame.by_group)"
      ],
      "metadata": {
        "colab": {
          "base_uri": "https://localhost:8080/"
        },
        "id": "CaB8wuYT4iOx",
        "outputId": "3e2318fd-848f-482e-d90f-99db6c35b845"
      },
      "execution_count": 17,
      "outputs": [
        {
          "output_type": "stream",
          "name": "stdout",
          "text": [
            "Fairness Metrics by Race After Reweighing:\n",
            "       True positive rate  False positive rate\n",
            "Race                                          \n",
            "BLACK            0.850000             0.631157\n",
            "WHITE            0.806624             0.532374\n"
          ]
        }
      ]
    },
    {
      "cell_type": "markdown",
      "metadata": {
        "id": "86ae6f63"
      },
      "source": [
        "In this project, we have:\n",
        "\n",
        "1.  **Installed the `fairlearn` library**: This library is used for assessing and improving the fairness of machine learning models.\n",
        "2.  **Imported necessary libraries**: We imported pandas for data manipulation, `train_test_split` from scikit-learn for splitting the data, `LogisticRegression` for building the model, and `MetricFrame`, `true_positive_rate`, `false_positive_rate` from `fairlearn.metrics` for evaluating fairness.\n",
        "3.  **Loaded and Preprocessed the Data**: We loaded the `recidivism_full.csv` dataset, filtered it to include only 'BLACK' and 'WHITE' races, handled missing values, and performed one-hot encoding on categorical features like 'Prison_Offense' and 'Age_at_Release'. We also converted the 'Prior_Arrest_Episodes_Felony' column to a numeric type.\n",
        "4.  **Split the Data**: We split the data into training and testing sets, ensuring that the 'Race' distribution was stratified in both sets.\n",
        "5.  **Trained a Logistic Regression Model**: We trained a logistic regression model on the training data.\n",
        "6.  **Evaluated Fairness**: We used `fairlearn.metrics.MetricFrame` to calculate fairness metrics, specifically True Positive Rate and False Positive Rate, across different racial groups ('BLACK' and 'WHITE') using the test set predictions.\n",
        "7.  **Displayed Fairness Metrics**: We displayed the calculated fairness metrics to assess the model's performance across the different racial groups."
      ]
    }
  ]
}